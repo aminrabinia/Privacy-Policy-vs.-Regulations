{
  "nbformat": 4,
  "nbformat_minor": 0,
  "metadata": {
    "colab": {
      "name": "ECE_DeepLearning_project.ipynb",
      "provenance": [],
      "collapsed_sections": [],
      "machine_shape": "hm",
      "include_colab_link": true
    },
    "kernelspec": {
      "name": "python3",
      "display_name": "Python 3"
    },
    "accelerator": "GPU"
  },
  "cells": [
    {
      "cell_type": "markdown",
      "metadata": {
        "id": "view-in-github",
        "colab_type": "text"
      },
      "source": [
        "<a href=\"https://colab.research.google.com/github/aminrabinia/Privacy-Policy-vs.-Regulations/blob/master/DeepLearning_project.ipynb\" target=\"_parent\"><img src=\"https://colab.research.google.com/assets/colab-badge.svg\" alt=\"Open In Colab\"/></a>"
      ]
    },
    {
      "cell_type": "code",
      "metadata": {
        "id": "hfi44g9eZ2OM",
        "colab_type": "code",
        "outputId": "b6999129-cb3e-4247-dc5d-fbad752c1b4e",
        "colab": {
          "base_uri": "https://localhost:8080/",
          "height": 204
        }
      },
      "source": [
        "# SNLI dataset 90MB\n",
        "!wget --no-check-certificate https://nlp.stanford.edu/projects/snli/snli_1.0.zip -O /tmp/snli_dataset.zip"
      ],
      "execution_count": 1,
      "outputs": [
        {
          "output_type": "stream",
          "text": [
            "--2019-12-11 14:36:58--  https://nlp.stanford.edu/projects/snli/snli_1.0.zip\n",
            "Resolving nlp.stanford.edu (nlp.stanford.edu)... 171.64.67.140\n",
            "Connecting to nlp.stanford.edu (nlp.stanford.edu)|171.64.67.140|:443... connected.\n",
            "HTTP request sent, awaiting response... 200 OK\n",
            "Length: 94550081 (90M) [application/zip]\n",
            "Saving to: ‘/tmp/snli_dataset.zip’\n",
            "\n",
            "/tmp/snli_dataset.z 100%[===================>]  90.17M  14.6MB/s    in 18s     \n",
            "\n",
            "2019-12-11 14:37:16 (5.02 MB/s) - ‘/tmp/snli_dataset.zip’ saved [94550081/94550081]\n",
            "\n"
          ],
          "name": "stdout"
        }
      ]
    },
    {
      "cell_type": "code",
      "metadata": {
        "id": "CKEjOpd4aoqN",
        "colab_type": "code",
        "colab": {}
      },
      "source": [
        "import os\n",
        "import zipfile\n",
        "\n",
        "local_zip = '/tmp/snli_dataset.zip'\n",
        "zip_ref = zipfile.ZipFile(local_zip, 'r')\n",
        "zip_ref.extractall('/tmp')\n",
        "zip_ref.close()\n",
        "\n",
        "train_file = '/tmp/snli_1.0/snli_1.0_train.jsonl'\n",
        "valid_file = '/tmp/snli_1.0/snli_1.0_dev.jsonl'\n",
        "test_file = '/tmp/snli_1.0/snli_1.0_test.jsonl'"
      ],
      "execution_count": 0,
      "outputs": []
    },
    {
      "cell_type": "code",
      "metadata": {
        "id": "8JV1_JDLCsAS",
        "colab_type": "code",
        "colab": {}
      },
      "source": [
        "# MultiNLI dataset 216 MB\n",
        "!wget --no-check-certificate https://www.nyu.edu/projects/bowman/multinli/multinli_1.0.zip -O /tmp/multinli_dataset.zip"
      ],
      "execution_count": 0,
      "outputs": []
    },
    {
      "cell_type": "code",
      "metadata": {
        "id": "MHS_o9uTavoa",
        "colab_type": "code",
        "colab": {}
      },
      "source": [
        "import os\n",
        "import zipfile\n",
        "\n",
        "local_zip = '/tmp/multinli_dataset.zip'\n",
        "zip_ref = zipfile.ZipFile(local_zip, 'r')\n",
        "zip_ref.extractall('/tmp')\n",
        "zip_ref.close()\n",
        "\n",
        "train_file = '/tmp/multinli_1.0/multinli_1.0_train.jsonl'\n",
        "valid_file = '/tmp/multinli_1.0/multinli_1.0_dev_matched.jsonl'\n",
        "test_file = '/tmp/multinli_1.0/multinli_1.0_dev_mismatched.jsonl'"
      ],
      "execution_count": 0,
      "outputs": []
    },
    {
      "cell_type": "code",
      "metadata": {
        "id": "BJNh4qhTbKze",
        "colab_type": "code",
        "outputId": "4c14ca60-9498-4288-c0be-2fcb3b62e3ff",
        "colab": {
          "base_uri": "https://localhost:8080/",
          "height": 80
        }
      },
      "source": [
        "# reading data from json files \n",
        "# reference https://github.com/Smerity/keras_snli/blob/master/snli_rnn.py\n",
        "\n",
        "import json\n",
        "import numpy as np\n",
        "from keras.utils import np_utils\n",
        "\n",
        "def extract_tokens_from_binary_parse(parse):\n",
        "    return parse.replace('(', ' ').replace(')', ' ').replace('-LRB-', '(').replace('-RRB-', ')').split()\n",
        "    \n",
        "def yield_examples(fn, skip_no_majority=True, limit=None):\n",
        "  for i, line in enumerate(open(fn)):\n",
        "    if limit and i > limit:\n",
        "      break\n",
        "    data = json.loads(line)\n",
        "    label = data['gold_label']\n",
        "    s1 = ' '.join(extract_tokens_from_binary_parse(data['sentence1_binary_parse']))\n",
        "    s2 = ' '.join(extract_tokens_from_binary_parse(data['sentence2_binary_parse']))\n",
        "    if skip_no_majority and label == '-':\n",
        "      continue\n",
        "    yield (label, s1, s2)\n",
        "\n",
        "def get_data(fn, limit=None):\n",
        "  raw_data = list(yield_examples(fn=fn, limit=limit))\n",
        "  left = [s1 for _, s1, s2 in raw_data]\n",
        "  right = [s2 for _, s1, s2 in raw_data]\n",
        "\n",
        "  LABELS = {'contradiction': 0, 'neutral': 1, 'entailment': 2}\n",
        "  Y = np.array([LABELS[l] for l, s1, s2 in raw_data])\n",
        "  Y = np_utils.to_categorical(Y, len(LABELS))\n",
        "\n",
        "  return left, right, Y\n"
      ],
      "execution_count": 3,
      "outputs": [
        {
          "output_type": "stream",
          "text": [
            "Using TensorFlow backend.\n"
          ],
          "name": "stderr"
        },
        {
          "output_type": "display_data",
          "data": {
            "text/html": [
              "<p style=\"color: red;\">\n",
              "The default version of TensorFlow in Colab will soon switch to TensorFlow 2.x.<br>\n",
              "We recommend you <a href=\"https://www.tensorflow.org/guide/migrate\" target=\"_blank\">upgrade</a> now \n",
              "or ensure your notebook will continue to use TensorFlow 1.x via the <code>%tensorflow_version 1.x</code> magic:\n",
              "<a href=\"https://colab.research.google.com/notebooks/tensorflow_version.ipynb\" target=\"_blank\">more info</a>.</p>\n"
            ],
            "text/plain": [
              "<IPython.core.display.HTML object>"
            ]
          },
          "metadata": {
            "tags": []
          }
        }
      ]
    },
    {
      "cell_type": "code",
      "metadata": {
        "id": "zz2YGJtWXjLH",
        "colab_type": "code",
        "colab": {}
      },
      "source": [
        "# get_data() returns three dims[i] i={0:premise, 1:hypothesis, 2:label}\n",
        "train = get_data(train_file)\n",
        "valid = get_data(valid_file)\n",
        "test = get_data(test_file)"
      ],
      "execution_count": 0,
      "outputs": []
    },
    {
      "cell_type": "code",
      "metadata": {
        "id": "UX34IyIMs8qV",
        "colab_type": "code",
        "outputId": "319252a0-643a-4add-f296-cad1d5091359",
        "colab": {
          "base_uri": "https://localhost:8080/",
          "height": 357
        }
      },
      "source": [
        "# download pretrained weights for embedding: GLOVE\n",
        "!wget --no-check-certificate http://nlp.stanford.edu/data/glove.6B.zip -O /tmp/glove.6B.zip"
      ],
      "execution_count": 5,
      "outputs": [
        {
          "output_type": "stream",
          "text": [
            "--2019-12-11 14:37:32--  http://nlp.stanford.edu/data/glove.6B.zip\n",
            "Resolving nlp.stanford.edu (nlp.stanford.edu)... 171.64.67.140\n",
            "Connecting to nlp.stanford.edu (nlp.stanford.edu)|171.64.67.140|:80... connected.\n",
            "HTTP request sent, awaiting response... 302 Found\n",
            "Location: https://nlp.stanford.edu/data/glove.6B.zip [following]\n",
            "--2019-12-11 14:37:32--  https://nlp.stanford.edu/data/glove.6B.zip\n",
            "Connecting to nlp.stanford.edu (nlp.stanford.edu)|171.64.67.140|:443... connected.\n",
            "HTTP request sent, awaiting response... 301 Moved Permanently\n",
            "Location: http://downloads.cs.stanford.edu/nlp/data/glove.6B.zip [following]\n",
            "--2019-12-11 14:37:32--  http://downloads.cs.stanford.edu/nlp/data/glove.6B.zip\n",
            "Resolving downloads.cs.stanford.edu (downloads.cs.stanford.edu)... 171.64.64.22\n",
            "Connecting to downloads.cs.stanford.edu (downloads.cs.stanford.edu)|171.64.64.22|:80... connected.\n",
            "HTTP request sent, awaiting response... 200 OK\n",
            "Length: 862182613 (822M) [application/zip]\n",
            "Saving to: ‘/tmp/glove.6B.zip’\n",
            "\n",
            "/tmp/glove.6B.zip   100%[===================>] 822.24M  2.04MB/s    in 6m 28s  \n",
            "\n",
            "2019-12-11 14:44:01 (2.12 MB/s) - ‘/tmp/glove.6B.zip’ saved [862182613/862182613]\n",
            "\n"
          ],
          "name": "stdout"
        }
      ]
    },
    {
      "cell_type": "code",
      "metadata": {
        "id": "2ULHFip4taZt",
        "colab_type": "code",
        "outputId": "6e1eb4c6-7cb1-4751-d556-456c81599ee0",
        "colab": {
          "base_uri": "https://localhost:8080/",
          "height": 34
        }
      },
      "source": [
        "\n",
        "local_zip = '/tmp/glove.6B.zip'\n",
        "zip_ref = zipfile.ZipFile(local_zip, 'r')\n",
        "zip_ref.extractall('/tmp/glove.6B')\n",
        "zip_ref.close()\n",
        "\n",
        "GLOVE_DIR = os.path.join('/tmp/', 'glove.6B')\n",
        "print(os.listdir(GLOVE_DIR))"
      ],
      "execution_count": 6,
      "outputs": [
        {
          "output_type": "stream",
          "text": [
            "['glove.6B.300d.txt', 'glove.6B.50d.txt', 'glove.6B.100d.txt', 'glove.6B.200d.txt']\n"
          ],
          "name": "stdout"
        }
      ]
    },
    {
      "cell_type": "code",
      "metadata": {
        "id": "AoI3dec_tsSS",
        "colab_type": "code",
        "outputId": "9dabdade-c94b-4dde-e693-3720947a0753",
        "colab": {
          "base_uri": "https://localhost:8080/",
          "height": 85
        }
      },
      "source": [
        "# using glove for embedding: embedding_matrix\n",
        "from keras.preprocessing.text import Tokenizer\n",
        "\n",
        "MAX_NUM_WORDS = 50\n",
        "EMBEDDING_DIM = 300\n",
        "\n",
        "GLOVE_file= 'glove.6B.300d.txt' #'glove.6B.100d.txt'\n",
        "embeddings_index = {}\n",
        "with open(os.path.join(GLOVE_DIR, GLOVE_file )) as f:\n",
        "    for line in f:\n",
        "        word, coefs = line.split(maxsplit=1)\n",
        "        coefs = np.fromstring(coefs, 'f', sep=' ')\n",
        "        embeddings_index[word] = coefs\n",
        "print('Found %s word vectors.' % len(embeddings_index))\n",
        "f.close()\n",
        "\n",
        "tokenizer = Tokenizer(lower=False, filters='')\n",
        "tokenizer.fit_on_texts(train[0] + train[1])\n",
        "\n",
        "word_index = tokenizer.word_index\n",
        "print('Found %s unique tokens.' % len(word_index))\n",
        "num_words = len(tokenizer.word_counts) + 1\n",
        "print('num_words: ', num_words)\n",
        "\n",
        "embedding_matrix = np.zeros((num_words, EMBEDDING_DIM))\n",
        "for word, i in word_index.items():\n",
        "    embedding_vector = embeddings_index.get(word)\n",
        "    if embedding_vector is not None:\n",
        "        embedding_matrix[i] = embedding_vector\n",
        "print('Total number of null word embeddings:', \n",
        "      np.sum(np.sum(embedding_matrix, axis=1) == 0))"
      ],
      "execution_count": 7,
      "outputs": [
        {
          "output_type": "stream",
          "text": [
            "Found 400000 word vectors.\n",
            "Found 42390 unique tokens.\n",
            "num_words:  42391\n",
            "Total number of null word embeddings: 16475\n"
          ],
          "name": "stdout"
        }
      ]
    },
    {
      "cell_type": "code",
      "metadata": {
        "id": "k4U4pXi5zTv9",
        "colab_type": "code",
        "outputId": "5768636b-4875-4321-c8b8-931d104fa4e6",
        "colab": {
          "base_uri": "https://localhost:8080/",
          "height": 34
        }
      },
      "source": [
        "# converting data to sequence: texts_to_sequences(X) \n",
        "from keras.preprocessing.sequence import pad_sequences\n",
        "\n",
        "VOCAB = num_words #len(tokenizer.word_counts) + 1 \n",
        "print('vocab size: ',VOCAB)\n",
        "LABELS = {'contradiction': 0, 'neutral': 1, 'entailment': 2}\n",
        "MAX_LEN= MAX_NUM_WORDS\n",
        "\n",
        "to_seq = lambda X: pad_sequences(tokenizer.texts_to_sequences(X), maxlen=MAX_LEN)\n",
        "prepare_data = lambda data: (to_seq(data[0]), to_seq(data[1]), data[2])\n",
        "\n",
        "train_set = prepare_data(train)\n",
        "valid_set = prepare_data(valid)\n",
        "test_set = prepare_data(test)"
      ],
      "execution_count": 8,
      "outputs": [
        {
          "output_type": "stream",
          "text": [
            "vocab size:  42391\n"
          ],
          "name": "stdout"
        }
      ]
    },
    {
      "cell_type": "code",
      "metadata": {
        "id": "Hz-m7rvWb7NF",
        "colab_type": "code",
        "colab": {}
      },
      "source": [
        "# Model 2.\n",
        "import keras\n",
        "import keras.backend as K\n",
        "from keras.layers import merge, recurrent, Dense, Input, Dropout, TimeDistributed, LSTM\n",
        "from keras.layers.embeddings import Embedding\n",
        "from keras.layers.normalization import BatchNormalization\n",
        "from keras.layers.wrappers import Bidirectional\n",
        "from keras.models import Model\n",
        "from keras.regularizers import l2\n",
        "from keras.utils import np_utils\n",
        "from keras.optimizers import Adam\n",
        "\n",
        "\n",
        "#embed = Embedding(VOCAB, EMBEDDING_DIM, input_length=MAX_LEN) # no pretrained weights\n",
        "embed = Embedding(VOCAB, EMBEDDING_DIM, input_length=MAX_LEN, weights=[embedding_matrix], trainable=False)\n",
        "\n",
        "SumEmbeddings = keras.layers.core.Lambda(lambda x: K.sum(x, axis=1), output_shape=(EMBEDDING_DIM*3, ))\n",
        "\n",
        "translate = TimeDistributed(Dense(EMBEDDING_DIM*3, activation='relu'))\n",
        "\n",
        "premise = Input(shape=(MAX_LEN,), dtype='int32')\n",
        "hypothesis = Input(shape=(MAX_LEN,), dtype='int32')\n",
        "\n",
        "prem = embed(premise)\n",
        "hypo = embed(hypothesis)\n",
        "\n",
        "#Encoder = Bidirectional(LSTM(units=300, return_sequences=True))\n",
        "#prem = Dropout(0.2)(Encoder(prem))\n",
        "#hypo = Dropout(0.2)(Encoder(hypo))\n",
        "\n",
        "prem = translate(prem)\n",
        "hypo = translate(hypo)\n",
        "\n",
        "prem = SumEmbeddings(prem)\n",
        "hypo = SumEmbeddings(hypo)\n",
        "\n",
        "prem = BatchNormalization()(prem)\n",
        "hypo = BatchNormalization()(hypo)\n"
      ],
      "execution_count": 0,
      "outputs": []
    },
    {
      "cell_type": "code",
      "metadata": {
        "id": "sRlGhcXEwYXl",
        "colab_type": "code",
        "outputId": "fa5b7fee-7826-4b69-daba-6e89a568e702",
        "colab": {
          "base_uri": "https://localhost:8080/",
          "height": 1000
        }
      },
      "source": [
        "#### Model 2.\n",
        "\n",
        "DROP=0.5\n",
        "joint = keras.layers.concatenate([prem, hypo])\n",
        "joint = Dropout(DROP)(joint)\n",
        "for i in range(4,0,-1):\n",
        "  joint = Dense(EMBEDDING_DIM*i, activation='relu', W_regularizer=l2(4e-6))(joint)\n",
        "  joint = Dropout(DROP)(joint)\n",
        "  joint = BatchNormalization()(joint)\n",
        "pred = Dense(len(LABELS), activation='softmax')(joint)\n",
        "model = Model(input=[premise, hypothesis], output=pred)\n",
        "model.compile(optimizer='rmsprop', loss='categorical_crossentropy', metrics=['accuracy'])\n",
        "model.summary()"
      ],
      "execution_count": 77,
      "outputs": [
        {
          "output_type": "stream",
          "text": [
            "/usr/local/lib/python3.6/dist-packages/ipykernel_launcher.py:6: UserWarning: Update your `Dense` call to the Keras 2 API: `Dense(1200, activation=\"relu\", kernel_regularizer=<keras.reg...)`\n",
            "  \n",
            "/usr/local/lib/python3.6/dist-packages/ipykernel_launcher.py:6: UserWarning: Update your `Dense` call to the Keras 2 API: `Dense(900, activation=\"relu\", kernel_regularizer=<keras.reg...)`\n",
            "  \n",
            "/usr/local/lib/python3.6/dist-packages/ipykernel_launcher.py:6: UserWarning: Update your `Dense` call to the Keras 2 API: `Dense(600, activation=\"relu\", kernel_regularizer=<keras.reg...)`\n",
            "  \n",
            "/usr/local/lib/python3.6/dist-packages/ipykernel_launcher.py:6: UserWarning: Update your `Dense` call to the Keras 2 API: `Dense(300, activation=\"relu\", kernel_regularizer=<keras.reg...)`\n",
            "  \n"
          ],
          "name": "stderr"
        },
        {
          "output_type": "stream",
          "text": [
            "Model: \"model_10\"\n",
            "__________________________________________________________________________________________________\n",
            "Layer (type)                    Output Shape         Param #     Connected to                     \n",
            "==================================================================================================\n",
            "input_5 (InputLayer)            (None, 50)           0                                            \n",
            "__________________________________________________________________________________________________\n",
            "input_6 (InputLayer)            (None, 50)           0                                            \n",
            "__________________________________________________________________________________________________\n",
            "embedding_3 (Embedding)         (None, 50, 300)      12717300    input_5[0][0]                    \n",
            "                                                                 input_6[0][0]                    \n",
            "__________________________________________________________________________________________________\n",
            "time_distributed_3 (TimeDistrib (None, 50, 900)      270900      embedding_3[0][0]                \n",
            "                                                                 embedding_3[1][0]                \n",
            "__________________________________________________________________________________________________\n",
            "lambda_3 (Lambda)               (None, 900)          0           time_distributed_3[0][0]         \n",
            "                                                                 time_distributed_3[1][0]         \n",
            "__________________________________________________________________________________________________\n",
            "batch_normalization_22 (BatchNo (None, 900)          3600        lambda_3[0][0]                   \n",
            "__________________________________________________________________________________________________\n",
            "batch_normalization_23 (BatchNo (None, 900)          3600        lambda_3[1][0]                   \n",
            "__________________________________________________________________________________________________\n",
            "concatenate_10 (Concatenate)    (None, 1800)         0           batch_normalization_22[0][0]     \n",
            "                                                                 batch_normalization_23[0][0]     \n",
            "__________________________________________________________________________________________________\n",
            "dropout_34 (Dropout)            (None, 1800)         0           concatenate_10[0][0]             \n",
            "__________________________________________________________________________________________________\n",
            "dense_37 (Dense)                (None, 1200)         2161200     dropout_34[0][0]                 \n",
            "__________________________________________________________________________________________________\n",
            "dropout_35 (Dropout)            (None, 1200)         0           dense_37[0][0]                   \n",
            "__________________________________________________________________________________________________\n",
            "batch_normalization_31 (BatchNo (None, 1200)         4800        dropout_35[0][0]                 \n",
            "__________________________________________________________________________________________________\n",
            "dense_38 (Dense)                (None, 900)          1080900     batch_normalization_31[0][0]     \n",
            "__________________________________________________________________________________________________\n",
            "dropout_36 (Dropout)            (None, 900)          0           dense_38[0][0]                   \n",
            "__________________________________________________________________________________________________\n",
            "batch_normalization_32 (BatchNo (None, 900)          3600        dropout_36[0][0]                 \n",
            "__________________________________________________________________________________________________\n",
            "dense_39 (Dense)                (None, 600)          540600      batch_normalization_32[0][0]     \n",
            "__________________________________________________________________________________________________\n",
            "dropout_37 (Dropout)            (None, 600)          0           dense_39[0][0]                   \n",
            "__________________________________________________________________________________________________\n",
            "batch_normalization_33 (BatchNo (None, 600)          2400        dropout_37[0][0]                 \n",
            "__________________________________________________________________________________________________\n",
            "dense_40 (Dense)                (None, 300)          180300      batch_normalization_33[0][0]     \n",
            "__________________________________________________________________________________________________\n",
            "dropout_38 (Dropout)            (None, 300)          0           dense_40[0][0]                   \n",
            "__________________________________________________________________________________________________\n",
            "batch_normalization_34 (BatchNo (None, 300)          1200        dropout_38[0][0]                 \n",
            "__________________________________________________________________________________________________\n",
            "dense_41 (Dense)                (None, 3)            903         batch_normalization_34[0][0]     \n",
            "==================================================================================================\n",
            "Total params: 16,971,303\n",
            "Trainable params: 4,244,403\n",
            "Non-trainable params: 12,726,900\n",
            "__________________________________________________________________________________________________\n"
          ],
          "name": "stdout"
        },
        {
          "output_type": "stream",
          "text": [
            "/usr/local/lib/python3.6/dist-packages/ipykernel_launcher.py:10: UserWarning: Update your `Model` call to the Keras 2 API: `Model(inputs=[<tf.Tenso..., outputs=Tensor(\"de...)`\n",
            "  # Remove the CWD from sys.path while we load stuff.\n"
          ],
          "name": "stderr"
        }
      ]
    },
    {
      "cell_type": "code",
      "metadata": {
        "id": "LmSPq8MqWEHI",
        "colab_type": "code",
        "colab": {}
      },
      "source": [
        "# reducing the train size for experiments, if needed; 549367 max \n",
        "SIZE= 549367 \n",
        "ttrain0=train_set[0][:SIZE]\n",
        "ttrain1=train_set[1][:SIZE]\n",
        "ttrain2=train_set[2][:SIZE]\n",
        "print((ttrain0.shape))\n",
        "print((ttrain2.shape))"
      ],
      "execution_count": 0,
      "outputs": []
    },
    {
      "cell_type": "code",
      "metadata": {
        "id": "fDjWOouO0eMk",
        "colab_type": "code",
        "outputId": "38c90cf6-0b2c-4cb2-c92a-91569e174dff",
        "colab": {
          "base_uri": "https://localhost:8080/",
          "height": 748
        }
      },
      "source": [
        "BATCH=512\n",
        "EPOCH=20\n",
        "history=model.fit([train_set[0], train_set[1]], train_set[2], batch_size=BATCH, nb_epoch=EPOCH, validation_data=([valid_set[0], valid_set[1]], valid_set[2]),verbose=2)\n",
        "#history=model.fit([ttrain0, ttrain1], ttrain2, batch_size=512, nb_epoch=20, validation_data=([test_set[0], test_set[1]], test_set[2]),verbose=2)"
      ],
      "execution_count": 78,
      "outputs": [
        {
          "output_type": "stream",
          "text": [
            "/usr/local/lib/python3.6/dist-packages/ipykernel_launcher.py:3: UserWarning: The `nb_epoch` argument in `fit` has been renamed `epochs`.\n",
            "  This is separate from the ipykernel package so we can avoid doing imports until\n"
          ],
          "name": "stderr"
        },
        {
          "output_type": "stream",
          "text": [
            "Train on 549367 samples, validate on 9842 samples\n",
            "Epoch 1/20\n",
            " - 30s - loss: 0.8084 - acc: 0.6569 - val_loss: 0.6409 - val_acc: 0.7477\n",
            "Epoch 2/20\n",
            " - 26s - loss: 0.6880 - acc: 0.7264 - val_loss: 0.6195 - val_acc: 0.7604\n",
            "Epoch 3/20\n",
            " - 26s - loss: 0.6644 - acc: 0.7429 - val_loss: 0.6091 - val_acc: 0.7661\n",
            "Epoch 4/20\n",
            " - 26s - loss: 0.6554 - acc: 0.7513 - val_loss: 0.6051 - val_acc: 0.7763\n",
            "Epoch 5/20\n",
            " - 26s - loss: 0.6491 - acc: 0.7571 - val_loss: 0.5906 - val_acc: 0.7863\n",
            "Epoch 6/20\n",
            " - 26s - loss: 0.6452 - acc: 0.7609 - val_loss: 0.6002 - val_acc: 0.7805\n",
            "Epoch 7/20\n",
            " - 26s - loss: 0.6437 - acc: 0.7638 - val_loss: 0.6004 - val_acc: 0.7830\n",
            "Epoch 8/20\n",
            " - 26s - loss: 0.6422 - acc: 0.7659 - val_loss: 0.5951 - val_acc: 0.7875\n",
            "Epoch 9/20\n",
            " - 26s - loss: 0.6404 - acc: 0.7688 - val_loss: 0.6009 - val_acc: 0.7857\n",
            "Epoch 10/20\n",
            " - 26s - loss: 0.6383 - acc: 0.7709 - val_loss: 0.5929 - val_acc: 0.7919\n",
            "Epoch 11/20\n",
            " - 26s - loss: 0.6378 - acc: 0.7722 - val_loss: 0.5937 - val_acc: 0.7952\n",
            "Epoch 12/20\n",
            " - 26s - loss: 0.6376 - acc: 0.7731 - val_loss: 0.5871 - val_acc: 0.7967\n",
            "Epoch 13/20\n",
            " - 26s - loss: 0.6359 - acc: 0.7744 - val_loss: 0.5867 - val_acc: 0.8000\n",
            "Epoch 14/20\n",
            " - 26s - loss: 0.6349 - acc: 0.7761 - val_loss: 0.6017 - val_acc: 0.7893\n",
            "Epoch 15/20\n",
            " - 26s - loss: 0.6339 - acc: 0.7766 - val_loss: 0.6082 - val_acc: 0.7871\n",
            "Epoch 16/20\n",
            " - 26s - loss: 0.6336 - acc: 0.7776 - val_loss: 0.5896 - val_acc: 0.8004\n",
            "Epoch 17/20\n",
            " - 26s - loss: 0.6326 - acc: 0.7782 - val_loss: 0.5878 - val_acc: 0.8037\n",
            "Epoch 18/20\n",
            " - 26s - loss: 0.6323 - acc: 0.7788 - val_loss: 0.5978 - val_acc: 0.7925\n",
            "Epoch 19/20\n",
            " - 26s - loss: 0.6307 - acc: 0.7795 - val_loss: 0.5923 - val_acc: 0.7984\n",
            "Epoch 20/20\n",
            " - 26s - loss: 0.6313 - acc: 0.7796 - val_loss: 0.5882 - val_acc: 0.8039\n"
          ],
          "name": "stdout"
        }
      ]
    },
    {
      "cell_type": "code",
      "metadata": {
        "id": "Cmc0KzphpitC",
        "colab_type": "code",
        "outputId": "80b8638a-0ea7-4571-b37e-f23ffa1182ab",
        "colab": {
          "base_uri": "https://localhost:8080/",
          "height": 282
        }
      },
      "source": [
        "import matplotlib.pyplot as plt\n",
        "plt.plot(history.epoch, history.history['acc'])\n",
        "plt.plot(history.epoch, history.history['val_acc'])\n",
        "plt.plot(history.epoch, history.history['loss'])\n",
        "plt.plot(history.epoch, history.history['val_loss'])\n",
        "plt.legend(['Training Accuracy', 'Validation Accuracy', \n",
        "            'Training Loss', 'Validation Loss'])"
      ],
      "execution_count": 76,
      "outputs": [
        {
          "output_type": "execute_result",
          "data": {
            "text/plain": [
              "<matplotlib.legend.Legend at 0x7f34ebe814e0>"
            ]
          },
          "metadata": {
            "tags": []
          },
          "execution_count": 76
        },
        {
          "output_type": "display_data",
          "data": {
            "image/png": "[encoded data removed]",
            "text/plain": [
              "<Figure size 432x288 with 1 Axes>"
            ]
          },
          "metadata": {
            "tags": []
          }
        }
      ]
    },
    {
      "cell_type": "code",
      "metadata": {
        "id": "6tk06eyw6YFt",
        "colab_type": "code",
        "outputId": "e973be12-73ed-4bd9-a937-2f592da06c12",
        "colab": {
          "base_uri": "https://localhost:8080/",
          "height": 102
        }
      },
      "source": [
        "index=np.random.randint(0,1000)\n",
        "print('random index: ',index)\n",
        "\n",
        "result=model.predict([test_set[0][index:index+1],test_set[1][index:index+1]])\n",
        "print(test[0][index:index+1])\n",
        "print(test[1][index:index+1])\n",
        "print('Gold: ',test[2][index:index+1])\n",
        "\n",
        "for v1,v2,v3 in result[:][:]:\n",
        "    print('Predicted: %.2f' %v1, '%.2f' %v2 ,'%.2f' %v3)\n"
      ],
      "execution_count": 56,
      "outputs": [
        {
          "output_type": "stream",
          "text": [
            "random index:  682\n",
            "['A woman in red blouse is standing with small blond child in front of a small folding chalkboard .']\n",
            "['a woman stands with a child']\n",
            "Gold:  [[0. 0. 1.]]\n",
            "Predicted: 0.00 0.02 0.98\n"
          ],
          "name": "stdout"
        }
      ]
    },
    {
      "cell_type": "code",
      "metadata": {
        "id": "FOj2YOOkUF5q",
        "colab_type": "code",
        "colab": {}
      },
      "source": [
        "# GDPR article 7\n",
        "regulation=['The data subject shall have the right to withdraw his or her consent at any time.',\n",
        "            'Where the child is below the age of 16 years, such processing shall be lawful only if and to the extent that consent is given or authorised by the holder of parental responsibility over the child.'\n",
        "            ]\n",
        "\n",
        "ppdata=[\n",
        "  ['snapchat.com',\n",
        "  'In some cases we’ll ask for consent to use your information for specific purposes.',\n",
        "  'If we do, we’ll make sure you can revoke your consent in our services or through your device permissions.',\n",
        "  'Even if we’re not relying on consent to use your information, we may ask you for permission to access data like contacts and location.',\n",
        "  'If we need to rely on consent as a legal basis for processing your information and your country requires consent from a parent, we may require your parent’s consent before we collect and use that information.'],\n",
        "  ['waze.com',\n",
        "  'Your use of the Services is subject to the Terms of Use, Copyright Policy and this Privacy Policy and indicates your consent to them.',\n",
        "  'Subject to your prior indication of consent (to the extent required under applicable law), we may also use the email address that you provided to send you promotional and/or marketing materials.',\n",
        "  'We’ll ask for your consent before using your information for a purpose that isn’t covered in this Privacy Policy.',\n",
        "  'We process your information for the purposes described in this policy, based on the following legal grounds:', \n",
        "  'With your consent We ask for your agreement to process your information for specific purposes and you have the right to withdraw your consent at any time.'],\n",
        "  ['zedge.net',\n",
        "  'Legal basis: We use and share this information to provide you offers and recommendations and to tailor and enhance your experience on the Websites or in the Mobile Apps when expressly agreed by you (consent) as well as to maintain the security on the Websites and in the Mobile Apps and also improve the Services on an aggregate basis (balance of interests).',\n",
        "  'Legal basis: We need this information to provide the services that you request from us when you expressly agree to the processing (consent).',\n",
        "  'In the event that you utilize a portion of the Services which requires your specific GPS location, we will obtain your consent before doing so.',\n",
        "  'Please note that by using the Services you are consenting to the use of cookies.',\n",
        "  'In the case of Zedge wanting to communicate with you through your email for other purpose than strictly tied to the service, we will ask for specific consent to do so with clear information about how to later opt-out again.',\n",
        "  'Some of our advertisers provides personalised ad experience, this will be explicitly asked for consent for in the Android Mobile App(s).',\n",
        "  'By clicking \"CONTINUE\" on Zedges signup page and acknowledging this Privacy Policy, you consent to Ogury collecting information from your device to allow it to dynamically serve more relevant promoted content to you and product support and improve its products and services.',\n",
        "  'This consent applies to all applications you have installed or may install that contain Ogurys technology.',\n",
        "  'You may also at any time withdraw any consent given, with future effect.']\n",
        "]\n"
      ],
      "execution_count": 0,
      "outputs": []
    },
    {
      "cell_type": "code",
      "metadata": {
        "id": "dD15RSxEafyQ",
        "colab_type": "code",
        "outputId": "08afc8ae-ae39-4ad1-fadb-87972f16a548",
        "colab": {
          "base_uri": "https://localhost:8080/",
          "height": 68
        }
      },
      "source": [
        "to_seq = lambda X: pad_sequences(tokenizer.texts_to_sequences(X), maxlen=MAX_LEN)\n",
        "prepare_data = lambda data: (to_seq(data[0]), to_seq(data[1]), data[2])\n",
        "\n",
        "case = [[regulation[0]],[ppdata[0][3]],[0,0,0]]\n",
        "\n",
        "reg_pp_test = prepare_data(case)\n",
        "print(case[0])\n",
        "print(case[1])\n",
        "#print(reg_pp_test)\n",
        "result=model.predict([reg_pp_test[0][:],reg_pp_test[1][:]])\n",
        "#print(test[0][index:index+1])\n",
        "#print(test[1][index:index+1])\n",
        "\n",
        "for v1,v2,v3 in result[:][:]:\n",
        "    print('Predicted: %.2f' %v1, '%.2f' %v2 ,'%.2f' %v3)"
      ],
      "execution_count": 42,
      "outputs": [
        {
          "output_type": "stream",
          "text": [
            "['The data subject shall have the right to withdraw his or her consent at any time.']\n",
            "['Even if we’re not relying on consent to use your information, we may ask you for permission to access data like contacts and location.']\n",
            "Predicted: 0.26 0.56 0.18\n"
          ],
          "name": "stdout"
        }
      ]
    },
    {
      "cell_type": "code",
      "metadata": {
        "id": "BBpuq_lmLCsA",
        "colab_type": "code",
        "colab": {}
      },
      "source": [
        "from google.colab import drive\n",
        "\n",
        "drive.mount('/content/gdrive')\n",
        "root_path = 'gdrive/My Drive/"
      ],
      "execution_count": 0,
      "outputs": []
    }
  ]
}