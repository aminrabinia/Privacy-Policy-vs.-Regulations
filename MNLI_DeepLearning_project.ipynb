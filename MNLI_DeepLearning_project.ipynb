{
  "nbformat": 4,
  "nbformat_minor": 0,
  "metadata": {
    "colab": {
      "name": "MNLI_DeepLearning_project.ipynb",
      "provenance": [],
      "collapsed_sections": [],
      "machine_shape": "hm",
      "include_colab_link": true
    },
    "kernelspec": {
      "name": "python3",
      "display_name": "Python 3"
    },
    "accelerator": "GPU"
  },
  "cells": [
    {
      "cell_type": "markdown",
      "metadata": {
        "id": "view-in-github",
        "colab_type": "text"
      },
      "source": [
        "<a href=\"https://colab.research.google.com/github/aminrabinia/Privacy-Policy-vs.-Regulations/blob/master/MNLI_DeepLearning_project.ipynb\" target=\"_parent\"><img src=\"https://colab.research.google.com/assets/colab-badge.svg\" alt=\"Open In Colab\"/></a>"
      ]
    },
    {
      "cell_type": "code",
      "metadata": {
        "id": "bpUz-UYhOwLw",
        "colab_type": "code",
        "colab": {}
      },
      "source": [
        "import warnings \n",
        "warnings.filterwarnings('ignore')"
      ],
      "execution_count": 0,
      "outputs": []
    },
    {
      "cell_type": "code",
      "metadata": {
        "id": "8JV1_JDLCsAS",
        "colab_type": "code",
        "outputId": "9cde0b25-0a78-4a12-fa43-f350cbdf2321",
        "colab": {
          "base_uri": "https://localhost:8080/",
          "height": 204
        }
      },
      "source": [
        "# MultiNLI dataset 216 MB\n",
        "!wget --no-check-certificate https://www.nyu.edu/projects/bowman/multinli/multinli_1.0.zip -O /tmp/multinli_dataset.zip"
      ],
      "execution_count": 3,
      "outputs": [
        {
          "output_type": "stream",
          "text": [
            "--2020-01-04 16:33:45--  https://www.nyu.edu/projects/bowman/multinli/multinli_1.0.zip\n",
            "Resolving www.nyu.edu (www.nyu.edu)... 216.165.47.12, 2607:f600:1002:6113::100\n",
            "Connecting to www.nyu.edu (www.nyu.edu)|216.165.47.12|:443... connected.\n",
            "HTTP request sent, awaiting response... 200 OK\n",
            "Length: 226850426 (216M) [application/zip]\n",
            "Saving to: ‘/tmp/multinli_dataset.zip’\n",
            "\n",
            "/tmp/multinli_datas 100%[===================>] 216.34M   858KB/s    in 4m 24s  \n",
            "\n",
            "2020-01-04 16:38:10 (839 KB/s) - ‘/tmp/multinli_dataset.zip’ saved [226850426/226850426]\n",
            "\n"
          ],
          "name": "stdout"
        }
      ]
    },
    {
      "cell_type": "code",
      "metadata": {
        "id": "MHS_o9uTavoa",
        "colab_type": "code",
        "colab": {}
      },
      "source": [
        "import os\n",
        "import zipfile\n",
        "\n",
        "local_zip = '/tmp/multinli_dataset.zip'\n",
        "zip_ref = zipfile.ZipFile(local_zip, 'r')\n",
        "zip_ref.extractall('/tmp')\n",
        "zip_ref.close()\n",
        "\n",
        "train_file = '/tmp/multinli_1.0/multinli_1.0_train.jsonl'\n",
        "valid_file = '/tmp/multinli_1.0/multinli_1.0_dev_matched.jsonl'\n",
        "test_file = '/tmp/multinli_1.0/multinli_1.0_dev_mismatched.jsonl'"
      ],
      "execution_count": 0,
      "outputs": []
    },
    {
      "cell_type": "code",
      "metadata": {
        "id": "BJNh4qhTbKze",
        "colab_type": "code",
        "outputId": "1a5ec9c9-45ae-46f7-c41f-515ed7484b30",
        "colab": {
          "base_uri": "https://localhost:8080/",
          "height": 80
        }
      },
      "source": [
        "# reading data from mnli json files \n",
        "# reference https://github.com/Smerity/keras_snli/blob/master/snli_rnn.py\n",
        "\n",
        "import json\n",
        "import numpy as np\n",
        "from keras.utils import np_utils\n",
        "\n",
        "def extract_tokens_from_binary_parse(parse):\n",
        "    return parse.replace('(', ' ').replace(')', ' ').replace('-LRB-', '(').replace('-RRB-', ')').split()\n",
        "    \n",
        "def yield_examples(fn, skip_no_majority=True, limit=None, genre=None):\n",
        "  for i, line in enumerate(open(fn)):\n",
        "    if limit and i > limit:\n",
        "      break\n",
        "    data = json.loads(line)\n",
        "    if data[\"genre\"] == genre or genre==None:\n",
        "      label = data['gold_label']\n",
        "      s1 = ' '.join(extract_tokens_from_binary_parse(data['sentence1_binary_parse']))\n",
        "      s2 = ' '.join(extract_tokens_from_binary_parse(data['sentence2_binary_parse']))\n",
        "      if skip_no_majority and label == '-':\n",
        "        continue\n",
        "      yield (label, s1, s2)\n",
        "\n",
        "def get_data(fn, limit=None, genre=None):\n",
        "  raw_data = list(yield_examples(fn=fn, limit=limit, genre=genre))\n",
        "  left = [s1 for _, s1, s2 in raw_data]\n",
        "  right = [s2 for _, s1, s2 in raw_data]\n",
        "\n",
        "  LABELS = {'contradiction': 0, 'neutral': 1, 'entailment': 2}\n",
        "  Y = np.array([LABELS[l] for l, s1, s2 in raw_data])\n",
        "  Y = np_utils.to_categorical(Y, len(LABELS))\n",
        "\n",
        "  return left, right, Y\n"
      ],
      "execution_count": 5,
      "outputs": [
        {
          "output_type": "stream",
          "text": [
            "Using TensorFlow backend.\n"
          ],
          "name": "stderr"
        },
        {
          "output_type": "display_data",
          "data": {
            "text/html": [
              "<p style=\"color: red;\">\n",
              "The default version of TensorFlow in Colab will soon switch to TensorFlow 2.x.<br>\n",
              "We recommend you <a href=\"https://www.tensorflow.org/guide/migrate\" target=\"_blank\">upgrade</a> now \n",
              "or ensure your notebook will continue to use TensorFlow 1.x via the <code>%tensorflow_version 1.x</code> magic:\n",
              "<a href=\"https://colab.research.google.com/notebooks/tensorflow_version.ipynb\" target=\"_blank\">more info</a>.</p>\n"
            ],
            "text/plain": [
              "<IPython.core.display.HTML object>"
            ]
          },
          "metadata": {
            "tags": []
          }
        }
      ]
    },
    {
      "cell_type": "code",
      "metadata": {
        "id": "zz2YGJtWXjLH",
        "colab_type": "code",
        "outputId": "5a328ff4-1c42-4980-b47e-ce5eaf1d3485",
        "colab": {
          "base_uri": "https://localhost:8080/",
          "height": 68
        }
      },
      "source": [
        "# get_data() returns three dims[i] i={0:premise, 1:hypothesis, 2:label}\n",
        "genre_list=['government','fiction']\n",
        "genre=None #genre_list[0]\n",
        "train = get_data(train_file, genre=genre)\n",
        "valid = get_data(valid_file,genre=genre)\n",
        "test = get_data(test_file,genre=genre)\n",
        "print(len(train[0]))\n",
        "print(len(valid[0]))\n",
        "print(len(test[0]))"
      ],
      "execution_count": 6,
      "outputs": [
        {
          "output_type": "stream",
          "text": [
            "392702\n",
            "9815\n",
            "9832\n"
          ],
          "name": "stdout"
        }
      ]
    },
    {
      "cell_type": "code",
      "metadata": {
        "id": "UX34IyIMs8qV",
        "colab_type": "code",
        "outputId": "e580d2e1-afd5-4789-9475-a7324ad77291",
        "colab": {
          "base_uri": "https://localhost:8080/",
          "height": 357
        }
      },
      "source": [
        "# download pretrained weights for embedding: GLOVE\n",
        "!wget --no-check-certificate http://nlp.stanford.edu/data/glove.6B.zip -O /tmp/glove.6B.zip"
      ],
      "execution_count": 7,
      "outputs": [
        {
          "output_type": "stream",
          "text": [
            "--2020-01-04 16:38:29--  http://nlp.stanford.edu/data/glove.6B.zip\n",
            "Resolving nlp.stanford.edu (nlp.stanford.edu)... 171.64.67.140\n",
            "Connecting to nlp.stanford.edu (nlp.stanford.edu)|171.64.67.140|:80... connected.\n",
            "HTTP request sent, awaiting response... 302 Found\n",
            "Location: https://nlp.stanford.edu/data/glove.6B.zip [following]\n",
            "--2020-01-04 16:38:29--  https://nlp.stanford.edu/data/glove.6B.zip\n",
            "Connecting to nlp.stanford.edu (nlp.stanford.edu)|171.64.67.140|:443... connected.\n",
            "HTTP request sent, awaiting response... 301 Moved Permanently\n",
            "Location: http://downloads.cs.stanford.edu/nlp/data/glove.6B.zip [following]\n",
            "--2020-01-04 16:38:29--  http://downloads.cs.stanford.edu/nlp/data/glove.6B.zip\n",
            "Resolving downloads.cs.stanford.edu (downloads.cs.stanford.edu)... 171.64.64.22\n",
            "Connecting to downloads.cs.stanford.edu (downloads.cs.stanford.edu)|171.64.64.22|:80... connected.\n",
            "HTTP request sent, awaiting response... 200 OK\n",
            "Length: 862182613 (822M) [application/zip]\n",
            "Saving to: ‘/tmp/glove.6B.zip’\n",
            "\n",
            "/tmp/glove.6B.zip   100%[===================>] 822.24M  1.98MB/s    in 6m 27s  \n",
            "\n",
            "2020-01-04 16:44:56 (2.13 MB/s) - ‘/tmp/glove.6B.zip’ saved [862182613/862182613]\n",
            "\n"
          ],
          "name": "stdout"
        }
      ]
    },
    {
      "cell_type": "code",
      "metadata": {
        "id": "2ULHFip4taZt",
        "colab_type": "code",
        "outputId": "1b08f628-ef5f-4b12-f2db-303a04639187",
        "colab": {
          "base_uri": "https://localhost:8080/",
          "height": 34
        }
      },
      "source": [
        "local_zip = '/tmp/glove.6B.zip'\n",
        "zip_ref = zipfile.ZipFile(local_zip, 'r')\n",
        "zip_ref.extractall('/tmp/glove.6B')\n",
        "zip_ref.close()\n",
        "\n",
        "GLOVE_DIR = os.path.join('/tmp/', 'glove.6B')\n",
        "print(os.listdir(GLOVE_DIR))"
      ],
      "execution_count": 8,
      "outputs": [
        {
          "output_type": "stream",
          "text": [
            "['glove.6B.200d.txt', 'glove.6B.300d.txt', 'glove.6B.50d.txt', 'glove.6B.100d.txt']\n"
          ],
          "name": "stdout"
        }
      ]
    },
    {
      "cell_type": "code",
      "metadata": {
        "id": "AoI3dec_tsSS",
        "colab_type": "code",
        "outputId": "20a5599d-cb37-40fa-d4b9-1d6ad3c23eef",
        "colab": {
          "base_uri": "https://localhost:8080/",
          "height": 68
        }
      },
      "source": [
        "# using glove for embedding: embedding_matrix\n",
        "from keras.preprocessing.text import Tokenizer\n",
        "\n",
        "tokenizer = Tokenizer(lower=False, filters='')\n",
        "tokenizer.fit_on_texts(train[0] + train[1])\n",
        "\n",
        "VOCAB = len(tokenizer.word_counts) + 1 \n",
        "\n",
        "EMBEDDING_DIM = 300\n",
        "USE_GLOVE= True\n",
        "\n",
        "if USE_GLOVE:\n",
        "  GLOVE_file= 'glove.6B.300d.txt' #'glove.6B.100d.txt'\n",
        "  embeddings_index = {}\n",
        "  with open(os.path.join(GLOVE_DIR, GLOVE_file )) as f:\n",
        "      for line in f:\n",
        "          word, coefs = line.split(maxsplit=1)\n",
        "          coefs = np.fromstring(coefs, 'f', sep=' ')\n",
        "          embeddings_index[word] = coefs\n",
        "  print('Found %s word vectors.' % len(embeddings_index))\n",
        "  f.close()\n",
        "\n",
        "  word_index = tokenizer.word_index\n",
        "  print('num_words: ', VOCAB)\n",
        "  embedding_matrix = np.zeros((VOCAB, EMBEDDING_DIM))\n",
        "  for word, i in word_index.items():\n",
        "      embedding_vector = embeddings_index.get(word)\n",
        "      if embedding_vector is not None:\n",
        "          embedding_matrix[i] = embedding_vector\n",
        "  print('Total number of null word embeddings:', \n",
        "        np.sum(np.sum(embedding_matrix, axis=1) == 0))"
      ],
      "execution_count": 9,
      "outputs": [
        {
          "output_type": "stream",
          "text": [
            "Found 400000 word vectors.\n",
            "num_words:  100157\n",
            "Total number of null word embeddings: 51498\n"
          ],
          "name": "stdout"
        }
      ]
    },
    {
      "cell_type": "code",
      "metadata": {
        "id": "k4U4pXi5zTv9",
        "colab_type": "code",
        "colab": {}
      },
      "source": [
        "# converting data to sequence: texts_to_sequences(X) \n",
        "from keras.preprocessing.sequence import pad_sequences\n",
        "\n",
        "MAX_LEN= 50\n",
        "\n",
        "to_seq = lambda X: pad_sequences(tokenizer.texts_to_sequences(X), maxlen=MAX_LEN)\n",
        "prepare_data = lambda data: (to_seq(data[0]), to_seq(data[1]), data[2])\n",
        "\n",
        "train_set = prepare_data(train)\n",
        "valid_set = prepare_data(valid)\n",
        "test_set = prepare_data(test)"
      ],
      "execution_count": 0,
      "outputs": []
    },
    {
      "cell_type": "code",
      "metadata": {
        "id": "Hz-m7rvWb7NF",
        "colab_type": "code",
        "colab": {}
      },
      "source": [
        "import keras\n",
        "import keras.backend as K\n",
        "from keras.layers import merge, recurrent, Dense, Input, Dropout, TimeDistributed, LSTM\n",
        "from keras.layers.embeddings import Embedding\n",
        "from keras.layers.normalization import BatchNormalization\n",
        "from keras.layers.wrappers import Bidirectional\n",
        "from keras.layers.core import Lambda\n",
        "from keras.models import Model\n",
        "from keras.regularizers import l2\n",
        "from keras.optimizers import Adam\n",
        "\n",
        "DROP=0.5\n",
        "\n",
        "if USE_GLOVE:\n",
        "  embed = Embedding(VOCAB, EMBEDDING_DIM, input_length=MAX_LEN, weights=[embedding_matrix], trainable=False)\n",
        "else:\n",
        "  embed = Embedding(VOCAB, EMBEDDING_DIM, input_length=MAX_LEN) \n",
        "\n",
        "premise = Input(shape=(MAX_LEN,), dtype='int32')\n",
        "hypothesis = Input(shape=(MAX_LEN,), dtype='int32')\n",
        "\n",
        "prem = embed(premise)\n",
        "hypo = embed(hypothesis)\n",
        "\n",
        "Encoder = Bidirectional(LSTM(units=EMBEDDING_DIM, return_sequences=True))\n",
        "\n",
        "translate1 = TimeDistributed(Dense(EMBEDDING_DIM, activation='relu'))\n",
        "translate2 = TimeDistributed(Dense(EMBEDDING_DIM, activation='relu'))\n",
        "\n",
        "#prem = Dropout(DROP)(translate1(prem))\n",
        "#hypo = Dropout(DROP)(translate2(hypo))\n",
        "\n",
        "#prem = Dropout(DROP)(translate2(prem))\n",
        "#hypo = Dropout(DROP)(translate1(hypo))\n",
        "\n",
        "prem = Dropout(DROP)(Encoder(prem))\n",
        "hypo = Dropout(DROP)(Encoder(hypo))\n",
        "\n",
        "SumEmbeddings = Lambda(lambda x: K.sum(x, axis=1), output_shape=(EMBEDDING_DIM*2, ))\n",
        "#prem = SumEmbeddings(prem)\n",
        "#hypo = SumEmbeddings(hypo)\n",
        "\n",
        "prem = BatchNormalization()(prem)\n",
        "hypo = BatchNormalization()(hypo)\n"
      ],
      "execution_count": 0,
      "outputs": []
    },
    {
      "cell_type": "code",
      "metadata": {
        "id": "sRlGhcXEwYXl",
        "colab_type": "code",
        "outputId": "b8cae80e-5c8a-48ff-821d-998cba75157d",
        "colab": {
          "base_uri": "https://localhost:8080/",
          "height": 921
        }
      },
      "source": [
        "joint = keras.layers.concatenate([prem, hypo])\n",
        "\n",
        "for i in range(2,0,-1):\n",
        "  joint = Dense(EMBEDDING_DIM*i, activation='relu', kernel_regularizer=l2(1e-2),bias_regularizer=l2(1e-2))(joint)\n",
        "  joint = Dropout(DROP)(joint)\n",
        "  joint = BatchNormalization()(joint)\n",
        "\n",
        "joint = Dropout(DROP)(Encoder(joint))\n",
        "joint =SumEmbeddings(joint)\n",
        "\n",
        "pred = Dense(3, activation='softmax')(joint)\n",
        "model = Model(input=[premise, hypothesis], output=pred)\n",
        "model.compile(optimizer='rmsprop', loss='categorical_crossentropy', metrics=['accuracy'])\n",
        "model.summary()"
      ],
      "execution_count": 12,
      "outputs": [
        {
          "output_type": "stream",
          "text": [
            "WARNING:tensorflow:From /usr/local/lib/python3.6/dist-packages/keras/optimizers.py:793: The name tf.train.Optimizer is deprecated. Please use tf.compat.v1.train.Optimizer instead.\n",
            "\n",
            "WARNING:tensorflow:From /usr/local/lib/python3.6/dist-packages/keras/backend/tensorflow_backend.py:3576: The name tf.log is deprecated. Please use tf.math.log instead.\n",
            "\n",
            "Model: \"model_1\"\n",
            "__________________________________________________________________________________________________\n",
            "Layer (type)                    Output Shape         Param #     Connected to                     \n",
            "==================================================================================================\n",
            "input_1 (InputLayer)            (None, 50)           0                                            \n",
            "__________________________________________________________________________________________________\n",
            "input_2 (InputLayer)            (None, 50)           0                                            \n",
            "__________________________________________________________________________________________________\n",
            "embedding_1 (Embedding)         (None, 50, 300)      30047100    input_1[0][0]                    \n",
            "                                                                 input_2[0][0]                    \n",
            "__________________________________________________________________________________________________\n",
            "bidirectional_1 (Bidirectional) (None, 50, 600)      1442400     embedding_1[0][0]                \n",
            "                                                                 embedding_1[1][0]                \n",
            "                                                                 batch_normalization_4[0][0]      \n",
            "__________________________________________________________________________________________________\n",
            "dropout_1 (Dropout)             (None, 50, 600)      0           bidirectional_1[0][0]            \n",
            "__________________________________________________________________________________________________\n",
            "dropout_2 (Dropout)             (None, 50, 600)      0           bidirectional_1[1][0]            \n",
            "__________________________________________________________________________________________________\n",
            "batch_normalization_1 (BatchNor (None, 50, 600)      2400        dropout_1[0][0]                  \n",
            "__________________________________________________________________________________________________\n",
            "batch_normalization_2 (BatchNor (None, 50, 600)      2400        dropout_2[0][0]                  \n",
            "__________________________________________________________________________________________________\n",
            "concatenate_1 (Concatenate)     (None, 50, 1200)     0           batch_normalization_1[0][0]      \n",
            "                                                                 batch_normalization_2[0][0]      \n",
            "__________________________________________________________________________________________________\n",
            "dense_3 (Dense)                 (None, 50, 600)      720600      concatenate_1[0][0]              \n",
            "__________________________________________________________________________________________________\n",
            "dropout_3 (Dropout)             (None, 50, 600)      0           dense_3[0][0]                    \n",
            "__________________________________________________________________________________________________\n",
            "batch_normalization_3 (BatchNor (None, 50, 600)      2400        dropout_3[0][0]                  \n",
            "__________________________________________________________________________________________________\n",
            "dense_4 (Dense)                 (None, 50, 300)      180300      batch_normalization_3[0][0]      \n",
            "__________________________________________________________________________________________________\n",
            "dropout_4 (Dropout)             (None, 50, 300)      0           dense_4[0][0]                    \n",
            "__________________________________________________________________________________________________\n",
            "batch_normalization_4 (BatchNor (None, 50, 300)      1200        dropout_4[0][0]                  \n",
            "__________________________________________________________________________________________________\n",
            "dropout_5 (Dropout)             (None, 50, 600)      0           bidirectional_1[2][0]            \n",
            "__________________________________________________________________________________________________\n",
            "lambda_1 (Lambda)               (None, 600)          0           dropout_5[0][0]                  \n",
            "__________________________________________________________________________________________________\n",
            "dense_5 (Dense)                 (None, 3)            1803        lambda_1[0][0]                   \n",
            "==================================================================================================\n",
            "Total params: 32,400,603\n",
            "Trainable params: 2,349,303\n",
            "Non-trainable params: 30,051,300\n",
            "__________________________________________________________________________________________________\n"
          ],
          "name": "stdout"
        }
      ]
    },
    {
      "cell_type": "code",
      "metadata": {
        "id": "fDjWOouO0eMk",
        "colab_type": "code",
        "colab": {}
      },
      "source": [
        "BATCH=1024\n",
        "EPOCH=15\n",
        "history=model.fit([train_set[0], train_set[1]], train_set[2], batch_size=BATCH, nb_epoch=EPOCH, validation_data=([valid_set[0], valid_set[1]], valid_set[2]),verbose=2)"
      ],
      "execution_count": 0,
      "outputs": []
    },
    {
      "cell_type": "code",
      "metadata": {
        "id": "Cmc0KzphpitC",
        "colab_type": "code",
        "colab": {
          "base_uri": "https://localhost:8080/",
          "height": 316
        },
        "outputId": "9c3662d0-5ec0-4023-cc86-0be45b764c73"
      },
      "source": [
        "import matplotlib.pyplot as plt\n",
        "plt.plot(history.epoch, history.history['acc'])\n",
        "plt.plot(history.epoch, history.history['val_acc'])\n",
        "plt.plot(history.epoch, history.history['loss'])\n",
        "plt.plot(history.epoch, history.history['val_loss'])\n",
        "plt.legend(['Training Accuracy', 'Validation Accuracy', \n",
        "            'Training Loss', 'Validation Loss'])\n",
        "\n",
        "if len(test_set[0])>0:\n",
        "  report=model.evaluate([test_set[0],test_set[1]],test_set[2])\n",
        "  print(model.metrics_names[0],report[0])\n",
        "  print(model.metrics_names[1],report[1])\n",
        "else:\n",
        "  print('the test set is empty.')"
      ],
      "execution_count": 14,
      "outputs": [
        {
          "output_type": "stream",
          "text": [
            "9832/9832 [==============================] - 66s 7ms/step\n",
            "loss 0.9641635546944217\n",
            "acc 0.610353946297803\n"
          ],
          "name": "stdout"
        },
        {
          "output_type": "display_data",
          "data": {
            "image/png": "[encoded data removed]",
            "text/plain": [
              "<Figure size 432x288 with 1 Axes>"
            ]
          },
          "metadata": {
            "tags": []
          }
        }
      ]
    },
    {
      "cell_type": "code",
      "metadata": {
        "id": "8nsRt9mkNYBq",
        "colab_type": "code",
        "outputId": "b800fe37-236b-41e0-b0c6-89fefd54065f",
        "colab": {
          "base_uri": "https://localhost:8080/",
          "height": 326
        }
      },
      "source": [
        "# download the privacy policies json file\n",
        "!wget --no-check-certificate 'https://docs.google.com/uc?export=download&id=1gssaRcXkhWBWobU1kRIIqpbseQjuVRsU' -O /tmp/privacypolicy.json"
      ],
      "execution_count": 15,
      "outputs": [
        {
          "output_type": "stream",
          "text": [
            "--2020-01-04 17:50:51--  https://docs.google.com/uc?export=download&id=1gssaRcXkhWBWobU1kRIIqpbseQjuVRsU\n",
            "Resolving docs.google.com (docs.google.com)... 74.125.20.139, 74.125.20.101, 74.125.20.102, ...\n",
            "Connecting to docs.google.com (docs.google.com)|74.125.20.139|:443... connected.\n",
            "HTTP request sent, awaiting response... 302 Moved Temporarily\n",
            "Location: https://doc-0c-44-docs.googleusercontent.com/docs/securesc/ha0ro937gcuc7l7deffksulhg5h7mbp1/ak43nv91i0tnj8a419eh5rru3am4u4pl/1578153600000/05454033152636180987/*/1gssaRcXkhWBWobU1kRIIqpbseQjuVRsU?e=download [following]\n",
            "Warning: wildcards not supported in HTTP.\n",
            "--2020-01-04 17:50:51--  https://doc-0c-44-docs.googleusercontent.com/docs/securesc/ha0ro937gcuc7l7deffksulhg5h7mbp1/ak43nv91i0tnj8a419eh5rru3am4u4pl/1578153600000/05454033152636180987/*/1gssaRcXkhWBWobU1kRIIqpbseQjuVRsU?e=download\n",
            "Resolving doc-0c-44-docs.googleusercontent.com (doc-0c-44-docs.googleusercontent.com)... 74.125.195.132, 2607:f8b0:400e:c09::84\n",
            "Connecting to doc-0c-44-docs.googleusercontent.com (doc-0c-44-docs.googleusercontent.com)|74.125.195.132|:443... connected.\n",
            "HTTP request sent, awaiting response... 200 OK\n",
            "Length: 3426 (3.3K) [application/json]\n",
            "Saving to: ‘/tmp/privacypolicy.json’\n",
            "\n",
            "/tmp/privacypolicy. 100%[===================>]   3.35K  --.-KB/s    in 0s      \n",
            "\n",
            "2020-01-04 17:50:52 (55.6 MB/s) - ‘/tmp/privacypolicy.json’ saved [3426/3426]\n",
            "\n"
          ],
          "name": "stdout"
        }
      ]
    },
    {
      "cell_type": "code",
      "metadata": {
        "id": "RxC59YhvPPtV",
        "colab_type": "code",
        "colab": {}
      },
      "source": [
        "pp_text=[]\n",
        "# adding some test cases\n",
        "pp_text.append('Test case one, you have no right to withdraw your consent.') \n",
        "pp_text.append('Test case two, at any time you can withdraw your consent.')\n",
        "pp_text.append('Test case three, You can not withdraw your consent any time.')\n",
        "\n",
        "with open('/tmp/privacypolicy.json') as myfile:\n",
        "  jdata = json.loads(myfile.read())\n",
        "  for data in jdata:\n",
        "    for row in data['data']:\n",
        "      pp_text.append(row)\n",
        "\n",
        "print(pp_text)\n",
        "\n",
        "# GDPR article 7\n",
        "regulation=['The data subject shall have the right to withdraw his or her consent at any time.']"
      ],
      "execution_count": 0,
      "outputs": []
    },
    {
      "cell_type": "code",
      "metadata": {
        "id": "dD15RSxEafyQ",
        "colab_type": "code",
        "outputId": "8634a2d1-610d-422e-8bdb-7f4db27d0bb9",
        "colab": {
          "base_uri": "https://localhost:8080/",
          "height": 1000
        }
      },
      "source": [
        "to_seq = lambda X: pad_sequences(tokenizer.texts_to_sequences(X), maxlen=MAX_LEN)\n",
        "prepare_data = lambda data: (to_seq(data[0]), to_seq(data[1]))\n",
        "\n",
        "print('Legal statement: \\n', regulation[0],'\\n')\n",
        "print('order of outputs:\\n contradition, neutral, entailment \\n')\n",
        "\n",
        "for text in pp_text:\n",
        "  case = [[regulation[0]],[text]]\n",
        "  reg_pp_test = prepare_data(case)\n",
        "  result=model.predict([reg_pp_test[0][:],reg_pp_test[1][:]])\n",
        "\n",
        "  print(case[1][0])\n",
        "  for v1,v2,v3 in result[:][:]:\n",
        "      print('Predicted: %.2f' %v1, '%.2f' %v2 ,'%.2f' %v3,'\\n')"
      ],
      "execution_count": 17,
      "outputs": [
        {
          "output_type": "stream",
          "text": [
            "Legal statement: \n",
            " The data subject shall have the right to withdraw his or her consent at any time. \n",
            "\n",
            "order of outputs:\n",
            " contradition, neutral, entailment \n",
            "\n",
            "Test case one, you have no right to withdraw your consent.\n",
            "Predicted: 0.54 0.25 0.21 \n",
            "\n",
            "Test case two, at any time you can withdraw your consent.\n",
            "Predicted: 0.63 0.16 0.21 \n",
            "\n",
            "Test case three, You can not withdraw your consent any time.\n",
            "Predicted: 0.89 0.03 0.08 \n",
            "\n",
            "If we do, we’ll make sure you can revoke your consent in our services or through your device permissions.\n",
            "Predicted: 0.04 0.78 0.18 \n",
            "\n",
            "Your use of the Services is subject to the Terms of Use, Copyright Policy and this Privacy Policy and indicates your consent to them.\n",
            "Predicted: 0.04 0.11 0.85 \n",
            "\n",
            "You may also at any time withdraw any consent given, with future effect.\n",
            "Predicted: 0.01 0.98 0.01 \n",
            "\n",
            "Withdrawing your consent will not affect the lawfulness of any processing we conducted prior to your withdrawal, nor will it affect the processing of your personal information conducted pursuant to lawful processing grounds other than consent.\n",
            "Predicted: 0.68 0.14 0.19 \n",
            "\n",
            "Data processed on the basis of consent will generally be stored until the given consent is withdrawn.\n",
            "Predicted: 0.11 0.17 0.72 \n",
            "\n",
            "If we do, you have the right to withdraw consent at any time.\n",
            "Predicted: 0.38 0.06 0.56 \n",
            "\n",
            "This policy is not a contract, and your acceptance and approval are only required where we request your consent to collect certain types of data.\n",
            "Predicted: 0.19 0.69 0.12 \n",
            "\n",
            "You can always withdraw your consent, for example by turning off GPS location sharing in your mobile device settings.\n",
            "Predicted: 0.10 0.87 0.03 \n",
            "\n",
            "By using any Application, the Services or the Site, you consent to the privacy practices described in this Policy.\n",
            "Predicted: 0.14 0.38 0.48 \n",
            "\n",
            "You acknowledge and consent to the recording and storage of such communications.\n",
            "Predicted: 0.06 0.09 0.86 \n",
            "\n",
            "Please note, you may still receive advertisements from third parties within MobilityWare’s games even if you withdraw consent or opt-out of tailored advertising but they will not be based on your activity across unrelated websites or apps.\n",
            "Predicted: 0.25 0.74 0.01 \n",
            "\n",
            "Your consent is required for each of these submissions if you use the default setting.\n",
            "Predicted: 0.03 0.35 0.62 \n",
            "\n",
            "You may revoke these consents.\n",
            "Predicted: 0.11 0.64 0.26 \n",
            "\n",
            "By using the Website, Services or Application, you unconditionally consent to and agree to be bound by all of the terms of this Privacy Policy.\n",
            "Predicted: 0.67 0.25 0.09 \n",
            "\n",
            "If the user does not give consent, no additional information shall be collected or shared with any business partners.\n",
            "Predicted: 0.99 0.01 0.00 \n",
            "\n",
            "Children’s privacy     There are no guarantees that children cannot enter our websites or use our      applications without      parental consent or notification.\n",
            "Predicted: 0.05 0.95 0.00 \n",
            "\n"
          ],
          "name": "stdout"
        }
      ]
    }
  ]
}